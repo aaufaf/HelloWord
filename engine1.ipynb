{
 "cells": [
  {
   "cell_type": "markdown",
   "metadata": {},
   "source": [
    "## The code, data, and plots contained in this note belongs to speaktograph."
   ]
  },
  {
   "cell_type": "markdown",
   "metadata": {},
   "source": [
    "<img src=\"banner.png\">"
   ]
  },
  {
   "cell_type": "code",
   "execution_count": 1,
   "metadata": {},
   "outputs": [],
   "source": [
    "import numpy as np\n",
    "from matplotlib import pyplot\n",
    "import speech_recognition as sr\n",
    "import time\n",
    "from ipywidgets import Layout, widgets\n",
    "import webbrowser as browse\n",
    "import pyaudio\n",
    "import struct\n",
    "from pylab import *\n",
    "from scipy import *\n",
    "%matplotlib inline"
   ]
  },
  {
   "cell_type": "markdown",
   "metadata": {},
   "source": [
    "## Transcribe"
   ]
  },
  {
   "cell_type": "code",
   "execution_count": 2,
   "metadata": {},
   "outputs": [
    {
     "data": {
      "application/vnd.jupyter.widget-view+json": {
       "model_id": "0979ec942cc84b7ea694953eeed4c838",
       "version_major": 2,
       "version_minor": 0
      },
      "text/html": [
       "<p>Failed to display Jupyter Widget of type <code>ToggleButtons</code>.</p>\n",
       "<p>\n",
       "  If you're reading this message in the Jupyter Notebook or JupyterLab Notebook, it may mean\n",
       "  that the widgets JavaScript is still loading. If this message persists, it\n",
       "  likely means that the widgets JavaScript library is either not installed or\n",
       "  not enabled. See the <a href=\"https://ipywidgets.readthedocs.io/en/stable/user_install.html\">Jupyter\n",
       "  Widgets Documentation</a> for setup instructions.\n",
       "</p>\n",
       "<p>\n",
       "  If you're reading this message in another frontend (for example, a static\n",
       "  rendering on GitHub or <a href=\"https://nbviewer.jupyter.org/\">NBViewer</a>),\n",
       "  it may mean that your frontend doesn't currently support widgets.\n",
       "</p>\n"
      ],
      "text/plain": [
       "ToggleButtons(description='Sesi:', options=('1', '2', '3', '5', '6'), value='1')"
      ]
     },
     "metadata": {},
     "output_type": "display_data"
    },
    {
     "data": {
      "application/vnd.jupyter.widget-view+json": {
       "model_id": "637373413a254aadbba7a618f0ab6b51",
       "version_major": 2,
       "version_minor": 0
      },
      "text/html": [
       "<p>Failed to display Jupyter Widget of type <code>ToggleButtons</code>.</p>\n",
       "<p>\n",
       "  If you're reading this message in the Jupyter Notebook or JupyterLab Notebook, it may mean\n",
       "  that the widgets JavaScript is still loading. If this message persists, it\n",
       "  likely means that the widgets JavaScript library is either not installed or\n",
       "  not enabled. See the <a href=\"https://ipywidgets.readthedocs.io/en/stable/user_install.html\">Jupyter\n",
       "  Widgets Documentation</a> for setup instructions.\n",
       "</p>\n",
       "<p>\n",
       "  If you're reading this message in another frontend (for example, a static\n",
       "  rendering on GitHub or <a href=\"https://nbviewer.jupyter.org/\">NBViewer</a>),\n",
       "  it may mean that your frontend doesn't currently support widgets.\n",
       "</p>\n"
      ],
      "text/plain": [
       "ToggleButtons(description='Bagian:', options=('1', '2', '3', '4'), value='1')"
      ]
     },
     "metadata": {},
     "output_type": "display_data"
    },
    {
     "data": {
      "application/vnd.jupyter.widget-view+json": {
       "model_id": "12a6a6bc37a24e2fa5f98bda095687a5",
       "version_major": 2,
       "version_minor": 0
      },
      "text/html": [
       "<p>Failed to display Jupyter Widget of type <code>ToggleButtons</code>.</p>\n",
       "<p>\n",
       "  If you're reading this message in the Jupyter Notebook or JupyterLab Notebook, it may mean\n",
       "  that the widgets JavaScript is still loading. If this message persists, it\n",
       "  likely means that the widgets JavaScript library is either not installed or\n",
       "  not enabled. See the <a href=\"https://ipywidgets.readthedocs.io/en/stable/user_install.html\">Jupyter\n",
       "  Widgets Documentation</a> for setup instructions.\n",
       "</p>\n",
       "<p>\n",
       "  If you're reading this message in another frontend (for example, a static\n",
       "  rendering on GitHub or <a href=\"https://nbviewer.jupyter.org/\">NBViewer</a>),\n",
       "  it may mean that your frontend doesn't currently support widgets.\n",
       "</p>\n"
      ],
      "text/plain": [
       "ToggleButtons(description='Durasi menit:', index=1, options=('1', '2', '3'), value='2')"
      ]
     },
     "metadata": {},
     "output_type": "display_data"
    },
    {
     "data": {
      "application/vnd.jupyter.widget-view+json": {
       "model_id": "ba1d72f3bf5b47f889cb4f248ad10e7b",
       "version_major": 2,
       "version_minor": 0
      },
      "text/html": [
       "<p>Failed to display Jupyter Widget of type <code>ToggleButtons</code>.</p>\n",
       "<p>\n",
       "  If you're reading this message in the Jupyter Notebook or JupyterLab Notebook, it may mean\n",
       "  that the widgets JavaScript is still loading. If this message persists, it\n",
       "  likely means that the widgets JavaScript library is either not installed or\n",
       "  not enabled. See the <a href=\"https://ipywidgets.readthedocs.io/en/stable/user_install.html\">Jupyter\n",
       "  Widgets Documentation</a> for setup instructions.\n",
       "</p>\n",
       "<p>\n",
       "  If you're reading this message in another frontend (for example, a static\n",
       "  rendering on GitHub or <a href=\"https://nbviewer.jupyter.org/\">NBViewer</a>),\n",
       "  it may mean that your frontend doesn't currently support widgets.\n",
       "</p>\n"
      ],
      "text/plain": [
       "ToggleButtons(description='Calon:', options=('Jokowi', 'Prabowo', 'Panelis'), value='Jokowi')"
      ]
     },
     "metadata": {},
     "output_type": "display_data"
    }
   ],
   "source": [
    "w1=widgets.ToggleButtons(options=['1','2','3','5','6'], description='Sesi:')\n",
    "w2=widgets.ToggleButtons(options=['1','2','3','4'], description='Bagian:')\n",
    "w3=widgets.ToggleButtons(options=['1', '2', '3'], description='Durasi menit:', value='2')\n",
    "w4=widgets.ToggleButtons(options=['Jokowi', 'Prabowo', 'Panelis'], description='Calon:')\n",
    "r = sr.Recognizer()\n",
    "sesi=w1.value\n",
    "bagian=w2.value\n",
    "durasi=w3.value\n",
    "oleh=w4.value\n",
    "d=int(durasi)*60\n",
    "display(w1,w2,w3,w4)"
   ]
  },
  {
   "cell_type": "code",
   "execution_count": 53,
   "metadata": {
    "collapsed": true
   },
   "outputs": [
    {
     "name": "stdout",
     "output_type": "stream",
     "text": [
      "yang paling sulit adalah menjaga keseimbangan harga petaninya seneng masyarakat juga seneng kalo kita hanya ingin menaikkan harga Polda gabah Yadi naik aja HP kita tetapi harga di pasar akan juga ikut naik masyarakat akan merasakan beban di situ keseimbangan inilah yang terus kita jaga artinya apa petani juga bisa mendapatkan untung tetapi masyarakat juga bisa menjangkau harga yang ada di pasar sebetulnya kesulitannya ada di sinilah fungsi Pemerintah menjaga stabilitas harga menjaga stabilitas stop agar dua-duanya Ini mendapat keuntungan kita juga memiliki strategi besar rakyat gak tahu yaitu membangun Bendungan sebanyak-banyaknya karena kebutuhan air yang ada di negara kita ini untuk pengairan sawah itu baru terus supply 11% dengan terbangunnya 49 waduk yang telah kita kerjakan ini itu baru mencapai 20% dari kebutuhan yang ada strategi besarnya ada tetapi yang harian yang mingguannya juga harus kita selesaikan kita terus harus membangun Waduk ini agar di semua provinsi yang memiliki peluang untuk menaikan produktivitas betul-betul ada airnya contoh di NTT kita telah bangun 7 bendungan di NTT saja karena di NTT Tanpa Air tidak mungkin berkata Tanpa Air gak mungkin ada di situ juga sama dibangun Bendungan tanpa air mereka nggak akan bisa menanam apa-apa inilah strategi besar tetapi juga ada strategi jangka pendek dan jangka menengah yang kita kerjakan\n"
     ]
    }
   ],
   "source": [
    "r = sr.Recognizer()\n",
    "sesi=w1.value\n",
    "bagian=w2.value\n",
    "oleh=w4.value\n",
    "durasi=w3.value\n",
    "d=int(durasi)*58\n",
    "with sr.Microphone() as source:\n",
    "#     audio = r.listen(source)\n",
    "    audio = r.record(source, duration=d)\n",
    "    \n",
    "text = r.recognize_google(audio, language=\"id-ID\")\n",
    "try:\n",
    "    print(text)\n",
    "except:\n",
    "    pass"
   ]
  },
  {
   "cell_type": "markdown",
   "metadata": {},
   "source": [
    "## Registering text"
   ]
  },
  {
   "cell_type": "code",
   "execution_count": 51,
   "metadata": {},
   "outputs": [
    {
     "name": "stdout",
     "output_type": "stream",
     "text": [
      "text saved as: ses5bag1Jokowi.txt\n"
     ]
    }
   ],
   "source": [
    "sesi=w1.value\n",
    "bagian=w2.value\n",
    "oleh=w4.value\n",
    "globals()['ses'+str(sesi)+'bag'+str(bagian)+oleh]=text\n",
    "with open('ses'+str(sesi)+'bag'+str(bagian)+oleh+'.txt', \"w\") as t:\n",
    "    t.write(text)\n",
    "print('text saved as: '+'ses'+str(sesi)+'bag'+str(bagian)+oleh+'.txt')\n",
    "# browse.open('ses'+str(sesi)+'bag'+str(bagian)+oleh+'.txt')"
   ]
  },
  {
   "cell_type": "markdown",
   "metadata": {},
   "source": [
    "## Content"
   ]
  },
  {
   "cell_type": "code",
   "execution_count": 42,
   "metadata": {},
   "outputs": [],
   "source": [
    "text=\"Sahabatku di manapun kau berada, majelis yang terhormat, Saudara Insinyur Joko Widodo yang saya hormati, malam hari ini kita berkumpul untuk membahas masalah yang sangat penting dalam kehidupan bangsa yaitu infrastruktur, pangan, energi, sumber daya alam, dan lingkungan hidup. ini bisa dikatakan inti masalah daripada kehidupan berbangsa dan bernegara. Kami punya visi bahwa justru di bidang bidang inilah untuk menjadi negara berhasil kita harus sungguh-sungguh membangun suatu kemandirian. Kita harus berdiri di atas kaki kita sendiri. Kita harus swasembada pangan, swasembada energi, swasembada air, agar kita bisa survive sebagai suatu bangsa. PBB sekarang mengatakan bahwa inilah tiga masalah yang utama tolak ukur keberhasilan suatu negara. Suatu negara dikatakan bisa berhasil kalau bisa memenuhi pangan untuk rakyatnya, energi untuk rakyatnya, dan air tanpa impor. Kami kalau berkuasa nanti insya Allah dapat mandat dari rakyat, kami akan menjamin pangan tersedia dengan harga terjangkau untuk seluruh rakyat Indonesia dan kami akan menjamin bahwa produsen petani, peternak, petambak, nelayan harus mendapatkan imbalan penghasilan yang memadai, itu komitmen kami. Kami juga akan segera turunkan harga listrik, harga makanan-makanan pokok dan kami akan menyiapkan pupuk dalam keadaan dalam jumlah berapa yang dibutuhkan kami akan siapkan sampai ke petani. Ini komitmen kami kami yakin Indonesia bisa berdiri di atas kaki kita sendiri. Kita akan mengamankan semua sumber-sumber ekonomi bangsa Indonesia. Kita akan menjaga pundi-pundi bangsa Indonesia supaya kekayaan kita tidak mengalir ke luar negeri. Masalah pokok bangsa kita adalah bahwa kekayaan kita tidak tinggal di republik kita. Ini bukan salah siapapun, ini salah kita semua sebagai bangsa karena itu saya mengajak marilah kita bersama sama mencari pemecahan masalah. saya menghargai apa yang sudah dilakukan oleh Pak Joko Widodo dibidang infrastruktur beliau telah bekerja keras, namun namanya demokrasi saya menawarkan suatu strategi yang akan lebih cepat membawa kemakmuran dan keadilan bagi rakyat Indonesia\""
   ]
  },
  {
   "cell_type": "code",
   "execution_count": 5,
   "metadata": {
    "scrolled": true
   },
   "outputs": [
    {
     "name": "stdout",
     "output_type": "stream",
     "text": [
      "gap and pause: -59.5%\n",
      "spoken words: 299\n",
      "unique words: 176\n",
      "unique word ratio: 58.9%\n"
     ]
    }
   ],
   "source": [
    "totalword=len(text.split())\n",
    "unique=len(set(text.split()))\n",
    "uratio=round(unique/totalword*100, 1)\n",
    "gap=round((int(durasi)*90-totalword)/2, 1)\n",
    "print ('gap and pause: '+str(gap)+'%')\n",
    "print ('spoken words: '+str(totalword))\n",
    "print ('unique words: '+str(unique))\n",
    "print ('unique word ratio: '+str(uratio)+'%')"
   ]
  },
  {
   "cell_type": "markdown",
   "metadata": {},
   "source": [
    "## Frequent words"
   ]
  },
  {
   "cell_type": "code",
   "execution_count": 56,
   "metadata": {
    "scrolled": true
   },
   "outputs": [
    {
     "name": "stdout",
     "output_type": "stream",
     "text": [
      "['Sahabatku', 'di', 'manapun', 'kau', 'berada,', 'majelis', 'terhormat,', 'Saudara', 'Insinyur', 'Joko', 'Widodo', 'sa', 'hormati,', 'malam', 'hari', 'kita', 'berkumpul', 'membahas', 'masalah', 'sangat', 'penting', 'hidupan', 'bangsa', 'infrastruktur,', 'pangan,', 'energi,', 'sumber', 'da', 'alam,', 'lingkungan', 'hidup.', 'bisa', 'dikat', 'inti', 'pada', 'berbangsa', 'bernegara.', 'Kami', 'pun', 'visi', 'bahwa', 'justru', 'big', 'lah', 'menjadi', 'negara', 'berhasil', 'harus', 'sungguh-sungguh', 'membangun', 'suatu', 'mandirian.', 'Kita', 'berdiri', 'atas', 'kaki', 'sendiri.', 'swasembada', 'air,', 'agar', 'survive', 'sebagai', 'bangsa.', 'PBB', 'sekarang', 'mengat', 'tiga', 'utama', 'tolak', 'ukur', 'berhasilan', 'negara.', 'Suatu', 'kalau', 'memenuhi', 'pangan', 'raktn,', 'energi', 'air', 'tanpa', 'impor.', 'berkuasa', 'nanti', 'ins', 'Allah', 'dapat', 'mandat', 'rakt,', 'kami', 'menjamin', 'tersedia', 'harga', 'terjangkau', 'seluruh', 'rakt', 'Indonesia', 'produsen', 'petani,', 'peternak,', 'petambak,', 'nelan', 'mendapatkan', 'imbalan', 'penghasilan', 'memadai,', 'komitmen', 'kami.', 'juga', 'segera', 'turunkan', 'listrik,', 'man-man', 'pokok', 'menyiapkan', 'pupuk', 'adaan', 'jumlah', 'berapa', 'dibutuhkan', 'siapkan', 'sampai', 'petani.', 'Ini', 'kin', 'mengamankan', 'semua', 'sumber-sumber', 'ekonomi', 'Indonesia.', 'menjaga', 'pundi-pundi', 'supa', 'kaan', 'tidak', 'mengalir', 'luar', 'negeri.', 'Masalah', 'adalah', 'tinggal', 'republik', 'kita.', 'bukan', 'salah', 'siapapun,', 'karena', 'mengajak', 'marilah', 'bersama', 'sama', 'mencari', 'pemecahan', 'masalah.', 'menghargai', 'apa', 'sudah', 'dilakukan', 'oleh', 'Pak', 'dibig', 'infrastruktur', 'beliau', 'berja', 'ras,', 'namun', 'naman', 'demokrasi', 'menawarkan', 'strategi', 'lebih', 'cepat', 'membawa', 'makmuran', 'adilan', 'bagi']\n",
      "[1, 5, 1, 1, 1, 1, 1, 1, 1, 2, 2, 4, 1, 1, 1, 10, 1, 1, 3, 1, 1, 2, 5, 1, 2, 2, 1, 1, 1, 1, 1, 5, 2, 1, 1, 1, 1, 3, 1, 1, 4, 1, 2, 2, 1, 2, 2, 4, 1, 1, 4, 1, 4, 2, 2, 2, 2, 3, 1, 1, 1, 2, 1, 1, 1, 1, 1, 1, 1, 1, 1, 1, 1, 2, 1, 2, 2, 1, 1, 1, 1, 1, 1, 1, 1, 1, 1, 1, 6, 2, 1, 3, 1, 1, 2, 4, 1, 1, 1, 1, 1, 1, 1, 1, 1, 2, 1, 1, 1, 1, 1, 1, 2, 1, 1, 1, 1, 1, 1, 1, 1, 1, 2, 1, 1, 2, 1, 1, 1, 1, 1, 1, 2, 2, 1, 1, 1, 1, 1, 1, 1, 1, 1, 2, 1, 1, 1, 1, 1, 1, 1, 1, 1, 1, 1, 1, 1, 1, 1, 1, 1, 1, 1, 1, 1, 1, 1, 1, 1, 1, 1, 1, 1, 1, 1]\n"
     ]
    }
   ],
   "source": [
    "khubung = loadtxt(\"konjungsi.txt\", dtype=str)\n",
    "for i in range (len(khubung)):\n",
    "    text=text.replace(str(khubung[i]), '')\n",
    "wordcount={}\n",
    "for word in text.split():\n",
    "    if word not in wordcount:\n",
    "        wordcount[word] = 1\n",
    "    else:\n",
    "        wordcount[word] += 1\n",
    "jumlah=[]; kata=[]\n",
    "for k,j in wordcount.items():\n",
    "    jumlah.append(j)\n",
    "    kata.append(k)\n",
    "print(kata); print(jumlah)"
   ]
  },
  {
   "cell_type": "code",
   "execution_count": 60,
   "metadata": {},
   "outputs": [],
   "source": [
    "import csv\n",
    "with open('ses4Jokowi.freq.csv', 'w') as f:\n",
    "    writer = csv.writer(f)\n",
    "    writer.writerows(zip(jumlah, kata))"
   ]
  },
  {
   "cell_type": "code",
   "execution_count": 57,
   "metadata": {},
   "outputs": [
    {
     "data": {
      "text/plain": [
       "([], <a list of 0 Text xticklabel objects>)"
      ]
     },
     "execution_count": 57,
     "metadata": {},
     "output_type": "execute_result"
    },
    {
     "data": {
      "image/png": "[encoded data removed]",
      "text/plain": [
       "<Figure size 576x144 with 1 Axes>"
      ]
     },
     "metadata": {
      "needs_background": "light"
     },
     "output_type": "display_data"
    }
   ],
   "source": [
    "fig=plt.figure(figsize=(8, 2))\n",
    "for i in range (len(kata)):\n",
    "    if len(kata[i])>3:\n",
    "        area=jumlah[i]*300+100\n",
    "        scatter(i, jumlah[i], c='blue', s=area, edgecolor='w', alpha=0.6)\n",
    "        plt.text(i, jumlah[i], kata[i], fontsize=5+area/300, color='white', \\\n",
    "             horizontalalignment='center', verticalalignment='center')\n",
    "ylim(ymin=1.5, ymax=max(jumlah)+max(jumlah)/8)\n",
    "# ylim(ymin=1.5, ymax=10)\n",
    "xticks([])"
   ]
  },
  {
   "cell_type": "code",
   "execution_count": 13,
   "metadata": {},
   "outputs": [
    {
     "data": {
      "text/plain": [
       "3.2608695652173916"
      ]
     },
     "execution_count": 13,
     "metadata": {},
     "output_type": "execute_result"
    }
   ],
   "source": []
  },
  {
   "cell_type": "markdown",
   "metadata": {},
   "source": [
    "## Confidence"
   ]
  },
  {
   "cell_type": "code",
   "execution_count": 58,
   "metadata": {},
   "outputs": [
    {
     "data": {
      "text/plain": [
       "(0.0, 8.0, 0.5639613886716172, 1.5286222040681294)"
      ]
     },
     "execution_count": 58,
     "metadata": {},
     "output_type": "execute_result"
    },
    {
     "data": {
      "image/png": "[encoded data removed]",
      "text/plain": [
       "<Figure size 360x43.2 with 1 Axes>"
      ]
     },
     "metadata": {},
     "output_type": "display_data"
    }
   ],
   "source": [
    "self=loadtxt(\"self1.txt\", dtype=str)\n",
    "# self=loadtxt(\"self2.txt\", dtype=str)\n",
    "\n",
    "pdcount=0\n",
    "for i in range (len(self)):\n",
    "    pdcount += text.count(self[i])\n",
    "    \n",
    "pdrate=round(2.5+(pdcount/totalword*10),1)\n",
    "if pdrate>5:\n",
    "    pdrate=5\n",
    "star=arange(1,int(pdrate//1)+1)\n",
    "pstar=pdrate-int(pdrate//1)\n",
    "\n",
    "fig=plt.figure(figsize=(5, 0.6))\n",
    "for i in range (len(star)):\n",
    "    scatter(star[i], 1, marker='*', s=1000, c='orange')\n",
    "if pstar !=0:\n",
    "    scatter(max(star)+1, 1, marker='*', s=1000*pstar, c='orange')\n",
    "plt.text(6, 1, pdrate, fontsize=14, verticalalignment='center')\n",
    "xlim(xmin=0.0, xmax=8); xticks([]); yticks([]); axis('off')\n"
   ]
  },
  {
   "cell_type": "markdown",
   "metadata": {},
   "source": [
    "## Optimism"
   ]
  },
  {
   "cell_type": "code",
   "execution_count": 71,
   "metadata": {},
   "outputs": [
    {
     "data": {
      "text/plain": [
       "(0.0, 8.0, 0.5639613886716172, 1.5286222040681294)"
      ]
     },
     "execution_count": 71,
     "metadata": {},
     "output_type": "execute_result"
    },
    {
     "data": {
      "image/png": "[encoded data removed]",
      "text/plain": [
       "<Figure size 360x43.2 with 1 Axes>"
      ]
     },
     "metadata": {},
     "output_type": "display_data"
    }
   ],
   "source": [
    "opt=loadtxt(\"positif_ta.txt\", dtype=str)\n",
    "pes1=loadtxt(\"negatif_ta.txt\", dtype=str)\n",
    "pes2=[]\n",
    "for i in range (len(opt)):\n",
    "    pes2.append('tidak '+str(opt[i]))\n",
    "\n",
    "optcount=0; pes1count=0; pes2count=0\n",
    "for i in range (len(opt)):\n",
    "    optcount += text.count(opt[i])\n",
    "    pes2count += text.count(pes2[i])\n",
    "for i in range (len(pes1)):\n",
    "    pes1count += text.count(pes1[i])\n",
    "pescount=pes1count+pes2count\n",
    "\n",
    "optrate=round((optcount-pescount*2.5)/2,2)\n",
    "if optrate>5:\n",
    "    optrate=5\n",
    "if optrate<1:\n",
    "    optrate=1\n",
    "star=arange(1,int(optrate//1)+1)\n",
    "pstar=optrate-int(optrate//1)\n",
    "fig=plt.figure(figsize=(5, 0.6))\n",
    "for i in range (len(star)):\n",
    "    scatter(star[i], 1, marker='*', s=1000, c='orange')\n",
    "if pstar !=0:\n",
    "    scatter(max(star)+1, 1, marker='*', s=1000*pstar, c='orange')\n",
    "plt.text(6, 1, optrate, fontsize=14, verticalalignment='center')\n",
    "xlim(xmin=0.0, xmax=8); xticks([]); yticks([]); axis('off')\n",
    "\n",
    "# print('opt:',optcount,' , pes:',pescount)"
   ]
  },
  {
   "cell_type": "code",
   "execution_count": 51,
   "metadata": {},
   "outputs": [
    {
     "data": {
      "text/plain": [
       "7.5"
      ]
     },
     "execution_count": 51,
     "metadata": {},
     "output_type": "execute_result"
    }
   ],
   "source": [
    "2.5+(20-10)/2"
   ]
  },
  {
   "cell_type": "markdown",
   "metadata": {},
   "source": [
    "## Talkativeness"
   ]
  },
  {
   "cell_type": "code",
   "execution_count": 73,
   "metadata": {},
   "outputs": [
    {
     "name": "stdout",
     "output_type": "stream",
     "text": [
      "4.925\n"
     ]
    }
   ],
   "source": [
    "# tivrate=round(2.99+(90-gap)/50, 2)\n",
    "# if tivrate>5:\n",
    "#     tivrate=5\n",
    "# star=arange(1,int(tivrate//1)+1)\n",
    "# pstar=tivrate-int(tivrate//1)\n",
    "\n",
    "# fig=plt.figure(figsize=(5, 0.6))\n",
    "# for i in range (len(star)):\n",
    "#     scatter(star[i], 1, marker='*', s=1000, c='orange')\n",
    "# if pstar !=0:\n",
    "#     scatter(max(star)+1, 1, marker='*',s=1000*pstar, c='orange')\n",
    "\n",
    "# plt.text(6, 1, tivrate, fontsize=14, verticalalignment='center')\n",
    "# xlim(xmin=0.0, xmax=8); xticks([]); yticks([]); axis('off')\n",
    "\n",
    "tivrate=1.5\n",
    "tiv=(100-tivrate)/20\n",
    "print(tiv)"
   ]
  },
  {
   "cell_type": "code",
   "execution_count": 25,
   "metadata": {},
   "outputs": [
    {
     "data": {
      "text/plain": [
       "-1.8599999999999999"
      ]
     },
     "execution_count": 25,
     "metadata": {},
     "output_type": "execute_result"
    }
   ],
   "source": [
    "pstar"
   ]
  },
  {
   "cell_type": "markdown",
   "metadata": {},
   "source": [
    "## Literary technique"
   ]
  },
  {
   "cell_type": "code",
   "execution_count": 46,
   "metadata": {},
   "outputs": [],
   "source": [
    "# Based on Handbook of Literary Terms\n",
    "anaphora=()\n",
    "hyperbole=()\n",
    "tripling=()\n",
    "repetition=()\n",
    "parellelism=()\n",
    "statistical=()\n",
    "# et cetera"
   ]
  },
  {
   "cell_type": "code",
   "execution_count": 40,
   "metadata": {},
   "outputs": [
    {
     "ename": "TypeError",
     "evalue": "split() missing 1 required positional argument: 'indices_or_sections'",
     "output_type": "error",
     "traceback": [
      "\u001b[1;31m---------------------------------------------------------------------------\u001b[0m",
      "\u001b[1;31mTypeError\u001b[0m                                 Traceback (most recent call last)",
      "\u001b[1;32m<ipython-input-40-70e5518ccd13>\u001b[0m in \u001b[0;36m<module>\u001b[1;34m()\u001b[0m\n\u001b[0;32m      1\u001b[0m \u001b[0mkal\u001b[0m\u001b[1;33m=\u001b[0m\u001b[1;34m'tidak mampu berantas korupsi'\u001b[0m\u001b[1;33m\u001b[0m\u001b[0m\n\u001b[1;32m----> 2\u001b[1;33m \u001b[0msplit\u001b[0m\u001b[1;33m(\u001b[0m\u001b[0mkal\u001b[0m\u001b[1;33m)\u001b[0m\u001b[1;33m\u001b[0m\u001b[0m\n\u001b[0m",
      "\u001b[1;31mTypeError\u001b[0m: split() missing 1 required positional argument: 'indices_or_sections'"
     ]
    }
   ],
   "source": [
    "kal='tidak mampu berantas korupsi'\n",
    "split(kal)"
   ]
  },
  {
   "cell_type": "code",
   "execution_count": null,
   "metadata": {},
   "outputs": [],
   "source": []
  }
 ],
 "metadata": {
  "kernelspec": {
   "display_name": "Python 3",
   "language": "python",
   "name": "python3"
  },
  "language_info": {
   "codemirror_mode": {
    "name": "ipython",
    "version": 3
   },
   "file_extension": ".py",
   "mimetype": "text/x-python",
   "name": "python",
   "nbconvert_exporter": "python",
   "pygments_lexer": "ipython3",
   "version": "3.6.4"
  }
 },
 "nbformat": 4,
 "nbformat_minor": 2
}
